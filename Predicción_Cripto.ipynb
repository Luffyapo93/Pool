{
  "nbformat": 4,
  "nbformat_minor": 0,
  "metadata": {
    "colab": {
      "provenance": [],
      "authorship_tag": "ABX9TyOBfJuV97uFOEUm4JwAxX0O",
      "include_colab_link": true
    },
    "kernelspec": {
      "name": "python3",
      "display_name": "Python 3"
    },
    "language_info": {
      "name": "python"
    }
  },
  "cells": [
    {
      "cell_type": "markdown",
      "metadata": {
        "id": "view-in-github",
        "colab_type": "text"
      },
      "source": [
        "<a href=\"https://colab.research.google.com/github/Luffyapo93/Pool/blob/main/Predicci%C3%B3n_Cripto.ipynb\" target=\"_parent\"><img src=\"https://colab.research.google.com/assets/colab-badge.svg\" alt=\"Open In Colab\"/></a>"
      ]
    },
    {
      "cell_type": "code",
      "execution_count": 4,
      "metadata": {
        "colab": {
          "base_uri": "https://localhost:8080/"
        },
        "id": "x0nl40kwj1vk",
        "outputId": "57bb0f50-9029-46e4-8eb0-ace6ceddfd91"
      },
      "outputs": [
        {
          "output_type": "stream",
          "name": "stdout",
          "text": [
            "Index(['slug', 'symbol', 'name', 'date', 'ranknow', 'open', 'high', 'low',\n",
            "       'close', 'volume', 'market', 'close_ratio', 'spread'],\n",
            "      dtype='object')\n"
          ]
        }
      ],
      "source": [
        "# ==========================\n",
        "# 1. Importación de librerías\n",
        "# ==========================\n",
        "import pandas as pd\n",
        "import numpy as np\n",
        "import matplotlib.pyplot as plt\n",
        "from sklearn.preprocessing import MinMaxScaler\n",
        "from tensorflow.keras.models import Sequential\n",
        "from tensorflow.keras.layers import LSTM, Dense, Dropout\n",
        "\n",
        "# ==========================\n",
        "# 2. Cargar el dataset\n",
        "# ==========================\n",
        "# Ruta de tu archivo CSV\n",
        "file_path = \"/content/crypto-markets.csv\"\n",
        "\n",
        "df = pd.read_csv(file_path)\n",
        "\n",
        "# Ver columnas disponibles\n",
        "print(df.columns)\n",
        "\n",
        "# Nos quedamos solo con la columna 'close'\n",
        "data = df[['close']].dropna()\n"
      ]
    },
    {
      "cell_type": "code",
      "source": [
        "# ==========================\n",
        "# 3. Normalización con MinMaxScaler\n",
        "# ==========================\n",
        "scaler = MinMaxScaler(feature_range=(0,1))\n",
        "scaled_data = scaler.fit_transform(data)\n",
        "\n",
        "# ==========================\n",
        "# 4. Crear secuencias para el LSTM\n",
        "# ==========================\n",
        "def create_sequences(dataset, time_step=60):\n",
        "    X, y = [], []\n",
        "    for i in range(time_step, len(dataset)):\n",
        "        X.append(dataset[i-time_step:i, 0])\n",
        "        y.append(dataset[i, 0])\n",
        "    return np.array(X), np.array(y)\n",
        "\n",
        "# Usamos 60 días como ventana de tiempo\n",
        "time_step = 60\n",
        "X, y = create_sequences(scaled_data, time_step)\n",
        "\n",
        "# Dar forma a [samples, time_steps, features]\n",
        "X = np.reshape(X, (X.shape[0], X.shape[1], 1))\n",
        "print(\"Forma de X:\", X.shape)\n",
        "print(\"Forma de y:\", y.shape)\n"
      ],
      "metadata": {
        "colab": {
          "base_uri": "https://localhost:8080/"
        },
        "id": "yH6dL10OkYOM",
        "outputId": "373249ad-d186-412a-be4f-16bf41fdce86"
      },
      "execution_count": 5,
      "outputs": [
        {
          "output_type": "stream",
          "name": "stdout",
          "text": [
            "Forma de X: (179279, 60, 1)\n",
            "Forma de y: (179279,)\n"
          ]
        }
      ]
    },
    {
      "cell_type": "code",
      "source": [
        "# ==========================\n",
        "# 5. Separar en entrenamiento (80%) y prueba (20%)\n",
        "# ==========================\n",
        "train_size = int(len(X) * 0.8)\n",
        "\n",
        "X_train, X_test = X[:train_size], X[train_size:]\n",
        "y_train, y_test = y[:train_size], y[train_size:]\n",
        "\n",
        "print(\"Tamaño entrenamiento:\", X_train.shape, y_train.shape)\n",
        "print(\"Tamaño prueba:\", X_test.shape, y_test.shape)\n"
      ],
      "metadata": {
        "colab": {
          "base_uri": "https://localhost:8080/"
        },
        "id": "JYj6C3Gmkaxk",
        "outputId": "ca83691d-01a5-489a-a15f-c35e18a4871f"
      },
      "execution_count": 6,
      "outputs": [
        {
          "output_type": "stream",
          "name": "stdout",
          "text": [
            "Tamaño entrenamiento: (143423, 60, 1) (143423,)\n",
            "Tamaño prueba: (35856, 60, 1) (35856,)\n"
          ]
        }
      ]
    },
    {
      "cell_type": "code",
      "source": [
        "# ==========================\n",
        "# 6. Construcción del modelo LSTM\n",
        "# ==========================\n",
        "model = Sequential()\n",
        "model.add(LSTM(100, return_sequences=True, input_shape=(X_train.shape[1], 1)))\n",
        "model.add(Dropout(0.2))\n",
        "model.add(LSTM(100, return_sequences=False))\n",
        "model.add(Dropout(0.2))\n",
        "model.add(Dense(50, activation='relu'))\n",
        "model.add(Dense(1))  # Predicción de un valor\n",
        "\n",
        "# Compilar modelo\n",
        "model.compile(optimizer='adam', loss='mean_squared_error')\n",
        "\n",
        "# Resumen del modelo\n",
        "model.summary()\n"
      ],
      "metadata": {
        "colab": {
          "base_uri": "https://localhost:8080/",
          "height": 376
        },
        "id": "98Wy2mvUkclU",
        "outputId": "ee932fec-f9a8-4f4b-b912-16aed0c12176"
      },
      "execution_count": 7,
      "outputs": [
        {
          "output_type": "stream",
          "name": "stderr",
          "text": [
            "/usr/local/lib/python3.12/dist-packages/keras/src/layers/rnn/rnn.py:199: UserWarning: Do not pass an `input_shape`/`input_dim` argument to a layer. When using Sequential models, prefer using an `Input(shape)` object as the first layer in the model instead.\n",
            "  super().__init__(**kwargs)\n"
          ]
        },
        {
          "output_type": "display_data",
          "data": {
            "text/plain": [
              "\u001b[1mModel: \"sequential\"\u001b[0m\n"
            ],
            "text/html": [
              "<pre style=\"white-space:pre;overflow-x:auto;line-height:normal;font-family:Menlo,'DejaVu Sans Mono',consolas,'Courier New',monospace\"><span style=\"font-weight: bold\">Model: \"sequential\"</span>\n",
              "</pre>\n"
            ]
          },
          "metadata": {}
        },
        {
          "output_type": "display_data",
          "data": {
            "text/plain": [
              "┏━━━━━━━━━━━━━━━━━━━━━━━━━━━━━━━━━┳━━━━━━━━━━━━━━━━━━━━━━━━┳━━━━━━━━━━━━━━━┓\n",
              "┃\u001b[1m \u001b[0m\u001b[1mLayer (type)                   \u001b[0m\u001b[1m \u001b[0m┃\u001b[1m \u001b[0m\u001b[1mOutput Shape          \u001b[0m\u001b[1m \u001b[0m┃\u001b[1m \u001b[0m\u001b[1m      Param #\u001b[0m\u001b[1m \u001b[0m┃\n",
              "┡━━━━━━━━━━━━━━━━━━━━━━━━━━━━━━━━━╇━━━━━━━━━━━━━━━━━━━━━━━━╇━━━━━━━━━━━━━━━┩\n",
              "│ lstm (\u001b[38;5;33mLSTM\u001b[0m)                     │ (\u001b[38;5;45mNone\u001b[0m, \u001b[38;5;34m60\u001b[0m, \u001b[38;5;34m100\u001b[0m)        │        \u001b[38;5;34m40,800\u001b[0m │\n",
              "├─────────────────────────────────┼────────────────────────┼───────────────┤\n",
              "│ dropout (\u001b[38;5;33mDropout\u001b[0m)               │ (\u001b[38;5;45mNone\u001b[0m, \u001b[38;5;34m60\u001b[0m, \u001b[38;5;34m100\u001b[0m)        │             \u001b[38;5;34m0\u001b[0m │\n",
              "├─────────────────────────────────┼────────────────────────┼───────────────┤\n",
              "│ lstm_1 (\u001b[38;5;33mLSTM\u001b[0m)                   │ (\u001b[38;5;45mNone\u001b[0m, \u001b[38;5;34m100\u001b[0m)            │        \u001b[38;5;34m80,400\u001b[0m │\n",
              "├─────────────────────────────────┼────────────────────────┼───────────────┤\n",
              "│ dropout_1 (\u001b[38;5;33mDropout\u001b[0m)             │ (\u001b[38;5;45mNone\u001b[0m, \u001b[38;5;34m100\u001b[0m)            │             \u001b[38;5;34m0\u001b[0m │\n",
              "├─────────────────────────────────┼────────────────────────┼───────────────┤\n",
              "│ dense (\u001b[38;5;33mDense\u001b[0m)                   │ (\u001b[38;5;45mNone\u001b[0m, \u001b[38;5;34m50\u001b[0m)             │         \u001b[38;5;34m5,050\u001b[0m │\n",
              "├─────────────────────────────────┼────────────────────────┼───────────────┤\n",
              "│ dense_1 (\u001b[38;5;33mDense\u001b[0m)                 │ (\u001b[38;5;45mNone\u001b[0m, \u001b[38;5;34m1\u001b[0m)              │            \u001b[38;5;34m51\u001b[0m │\n",
              "└─────────────────────────────────┴────────────────────────┴───────────────┘\n"
            ],
            "text/html": [
              "<pre style=\"white-space:pre;overflow-x:auto;line-height:normal;font-family:Menlo,'DejaVu Sans Mono',consolas,'Courier New',monospace\">┏━━━━━━━━━━━━━━━━━━━━━━━━━━━━━━━━━┳━━━━━━━━━━━━━━━━━━━━━━━━┳━━━━━━━━━━━━━━━┓\n",
              "┃<span style=\"font-weight: bold\"> Layer (type)                    </span>┃<span style=\"font-weight: bold\"> Output Shape           </span>┃<span style=\"font-weight: bold\">       Param # </span>┃\n",
              "┡━━━━━━━━━━━━━━━━━━━━━━━━━━━━━━━━━╇━━━━━━━━━━━━━━━━━━━━━━━━╇━━━━━━━━━━━━━━━┩\n",
              "│ lstm (<span style=\"color: #0087ff; text-decoration-color: #0087ff\">LSTM</span>)                     │ (<span style=\"color: #00d7ff; text-decoration-color: #00d7ff\">None</span>, <span style=\"color: #00af00; text-decoration-color: #00af00\">60</span>, <span style=\"color: #00af00; text-decoration-color: #00af00\">100</span>)        │        <span style=\"color: #00af00; text-decoration-color: #00af00\">40,800</span> │\n",
              "├─────────────────────────────────┼────────────────────────┼───────────────┤\n",
              "│ dropout (<span style=\"color: #0087ff; text-decoration-color: #0087ff\">Dropout</span>)               │ (<span style=\"color: #00d7ff; text-decoration-color: #00d7ff\">None</span>, <span style=\"color: #00af00; text-decoration-color: #00af00\">60</span>, <span style=\"color: #00af00; text-decoration-color: #00af00\">100</span>)        │             <span style=\"color: #00af00; text-decoration-color: #00af00\">0</span> │\n",
              "├─────────────────────────────────┼────────────────────────┼───────────────┤\n",
              "│ lstm_1 (<span style=\"color: #0087ff; text-decoration-color: #0087ff\">LSTM</span>)                   │ (<span style=\"color: #00d7ff; text-decoration-color: #00d7ff\">None</span>, <span style=\"color: #00af00; text-decoration-color: #00af00\">100</span>)            │        <span style=\"color: #00af00; text-decoration-color: #00af00\">80,400</span> │\n",
              "├─────────────────────────────────┼────────────────────────┼───────────────┤\n",
              "│ dropout_1 (<span style=\"color: #0087ff; text-decoration-color: #0087ff\">Dropout</span>)             │ (<span style=\"color: #00d7ff; text-decoration-color: #00d7ff\">None</span>, <span style=\"color: #00af00; text-decoration-color: #00af00\">100</span>)            │             <span style=\"color: #00af00; text-decoration-color: #00af00\">0</span> │\n",
              "├─────────────────────────────────┼────────────────────────┼───────────────┤\n",
              "│ dense (<span style=\"color: #0087ff; text-decoration-color: #0087ff\">Dense</span>)                   │ (<span style=\"color: #00d7ff; text-decoration-color: #00d7ff\">None</span>, <span style=\"color: #00af00; text-decoration-color: #00af00\">50</span>)             │         <span style=\"color: #00af00; text-decoration-color: #00af00\">5,050</span> │\n",
              "├─────────────────────────────────┼────────────────────────┼───────────────┤\n",
              "│ dense_1 (<span style=\"color: #0087ff; text-decoration-color: #0087ff\">Dense</span>)                 │ (<span style=\"color: #00d7ff; text-decoration-color: #00d7ff\">None</span>, <span style=\"color: #00af00; text-decoration-color: #00af00\">1</span>)              │            <span style=\"color: #00af00; text-decoration-color: #00af00\">51</span> │\n",
              "└─────────────────────────────────┴────────────────────────┴───────────────┘\n",
              "</pre>\n"
            ]
          },
          "metadata": {}
        },
        {
          "output_type": "display_data",
          "data": {
            "text/plain": [
              "\u001b[1m Total params: \u001b[0m\u001b[38;5;34m126,301\u001b[0m (493.36 KB)\n"
            ],
            "text/html": [
              "<pre style=\"white-space:pre;overflow-x:auto;line-height:normal;font-family:Menlo,'DejaVu Sans Mono',consolas,'Courier New',monospace\"><span style=\"font-weight: bold\"> Total params: </span><span style=\"color: #00af00; text-decoration-color: #00af00\">126,301</span> (493.36 KB)\n",
              "</pre>\n"
            ]
          },
          "metadata": {}
        },
        {
          "output_type": "display_data",
          "data": {
            "text/plain": [
              "\u001b[1m Trainable params: \u001b[0m\u001b[38;5;34m126,301\u001b[0m (493.36 KB)\n"
            ],
            "text/html": [
              "<pre style=\"white-space:pre;overflow-x:auto;line-height:normal;font-family:Menlo,'DejaVu Sans Mono',consolas,'Courier New',monospace\"><span style=\"font-weight: bold\"> Trainable params: </span><span style=\"color: #00af00; text-decoration-color: #00af00\">126,301</span> (493.36 KB)\n",
              "</pre>\n"
            ]
          },
          "metadata": {}
        },
        {
          "output_type": "display_data",
          "data": {
            "text/plain": [
              "\u001b[1m Non-trainable params: \u001b[0m\u001b[38;5;34m0\u001b[0m (0.00 B)\n"
            ],
            "text/html": [
              "<pre style=\"white-space:pre;overflow-x:auto;line-height:normal;font-family:Menlo,'DejaVu Sans Mono',consolas,'Courier New',monospace\"><span style=\"font-weight: bold\"> Non-trainable params: </span><span style=\"color: #00af00; text-decoration-color: #00af00\">0</span> (0.00 B)\n",
              "</pre>\n"
            ]
          },
          "metadata": {}
        }
      ]
    },
    {
      "cell_type": "code",
      "source": [
        "# ==========================\n",
        "# 7. Entrenar modelo\n",
        "# ==========================\n",
        "history = model.fit(\n",
        "    X_train, y_train,\n",
        "    epochs=50,              # Puedes aumentar si quieres\n",
        "    batch_size=64,\n",
        "    validation_data=(X_test, y_test),\n",
        "    verbose=1\n",
        ")\n"
      ],
      "metadata": {
        "colab": {
          "base_uri": "https://localhost:8080/"
        },
        "id": "Ud2vLCHFkfwc",
        "outputId": "c75debb5-bd40-4cd4-aeb6-af15733e07b3"
      },
      "execution_count": null,
      "outputs": [
        {
          "output_type": "stream",
          "name": "stdout",
          "text": [
            "Epoch 1/50\n",
            "\u001b[1m2241/2241\u001b[0m \u001b[32m━━━━━━━━━━━━━━━━━━━━\u001b[0m\u001b[37m\u001b[0m \u001b[1m420s\u001b[0m 186ms/step - loss: 6.7695e-05 - val_loss: 7.3809e-07\n",
            "Epoch 2/50\n",
            "\u001b[1m2241/2241\u001b[0m \u001b[32m━━━━━━━━━━━━━━━━━━━━\u001b[0m\u001b[37m\u001b[0m \u001b[1m443s\u001b[0m 186ms/step - loss: 2.8830e-05 - val_loss: 4.3750e-06\n",
            "Epoch 3/50\n",
            "\u001b[1m2241/2241\u001b[0m \u001b[32m━━━━━━━━━━━━━━━━━━━━\u001b[0m\u001b[37m\u001b[0m \u001b[1m426s\u001b[0m 179ms/step - loss: 2.8820e-05 - val_loss: 3.8130e-07\n",
            "Epoch 4/50\n",
            "\u001b[1m2241/2241\u001b[0m \u001b[32m━━━━━━━━━━━━━━━━━━━━\u001b[0m\u001b[37m\u001b[0m \u001b[1m410s\u001b[0m 183ms/step - loss: 2.5528e-05 - val_loss: 2.6112e-07\n",
            "Epoch 5/50\n",
            "\u001b[1m2241/2241\u001b[0m \u001b[32m━━━━━━━━━━━━━━━━━━━━\u001b[0m\u001b[37m\u001b[0m \u001b[1m443s\u001b[0m 183ms/step - loss: 2.2566e-05 - val_loss: 2.5659e-07\n",
            "Epoch 6/50\n",
            "\u001b[1m2241/2241\u001b[0m \u001b[32m━━━━━━━━━━━━━━━━━━━━\u001b[0m\u001b[37m\u001b[0m \u001b[1m439s\u001b[0m 182ms/step - loss: 1.8400e-05 - val_loss: 8.1969e-07\n",
            "Epoch 7/50\n",
            "\u001b[1m2241/2241\u001b[0m \u001b[32m━━━━━━━━━━━━━━━━━━━━\u001b[0m\u001b[37m\u001b[0m \u001b[1m444s\u001b[0m 183ms/step - loss: 1.8605e-05 - val_loss: 1.3469e-07\n",
            "Epoch 8/50\n",
            "\u001b[1m2241/2241\u001b[0m \u001b[32m━━━━━━━━━━━━━━━━━━━━\u001b[0m\u001b[37m\u001b[0m \u001b[1m443s\u001b[0m 183ms/step - loss: 2.6756e-05 - val_loss: 9.3633e-08\n",
            "Epoch 9/50\n",
            "\u001b[1m2241/2241\u001b[0m \u001b[32m━━━━━━━━━━━━━━━━━━━━\u001b[0m\u001b[37m\u001b[0m \u001b[1m433s\u001b[0m 179ms/step - loss: 1.7173e-05 - val_loss: 5.3286e-07\n",
            "Epoch 10/50\n",
            "\u001b[1m2241/2241\u001b[0m \u001b[32m━━━━━━━━━━━━━━━━━━━━\u001b[0m\u001b[37m\u001b[0m \u001b[1m453s\u001b[0m 184ms/step - loss: 2.1734e-05 - val_loss: 1.3045e-07\n",
            "Epoch 11/50\n",
            "\u001b[1m2241/2241\u001b[0m \u001b[32m━━━━━━━━━━━━━━━━━━━━\u001b[0m\u001b[37m\u001b[0m \u001b[1m411s\u001b[0m 184ms/step - loss: 1.7182e-05 - val_loss: 3.5735e-07\n",
            "Epoch 12/50\n",
            "\u001b[1m2241/2241\u001b[0m \u001b[32m━━━━━━━━━━━━━━━━━━━━\u001b[0m\u001b[37m\u001b[0m \u001b[1m443s\u001b[0m 184ms/step - loss: 1.6678e-05 - val_loss: 4.8897e-07\n",
            "Epoch 13/50\n",
            "\u001b[1m2241/2241\u001b[0m \u001b[32m━━━━━━━━━━━━━━━━━━━━\u001b[0m\u001b[37m\u001b[0m \u001b[1m413s\u001b[0m 184ms/step - loss: 1.3152e-05 - val_loss: 1.9798e-06\n",
            "Epoch 14/50\n",
            "\u001b[1m2241/2241\u001b[0m \u001b[32m━━━━━━━━━━━━━━━━━━━━\u001b[0m\u001b[37m\u001b[0m \u001b[1m404s\u001b[0m 180ms/step - loss: 1.6339e-05 - val_loss: 1.1788e-07\n",
            "Epoch 15/50\n",
            "\u001b[1m2241/2241\u001b[0m \u001b[32m━━━━━━━━━━━━━━━━━━━━\u001b[0m\u001b[37m\u001b[0m \u001b[1m449s\u001b[0m 184ms/step - loss: 1.5625e-05 - val_loss: 1.5769e-07\n",
            "Epoch 16/50\n",
            "\u001b[1m2241/2241\u001b[0m \u001b[32m━━━━━━━━━━━━━━━━━━━━\u001b[0m\u001b[37m\u001b[0m \u001b[1m442s\u001b[0m 184ms/step - loss: 1.1541e-05 - val_loss: 1.4349e-07\n",
            "Epoch 17/50\n",
            "\u001b[1m2241/2241\u001b[0m \u001b[32m━━━━━━━━━━━━━━━━━━━━\u001b[0m\u001b[37m\u001b[0m \u001b[1m433s\u001b[0m 180ms/step - loss: 1.7635e-05 - val_loss: 8.6663e-08\n",
            "Epoch 18/50\n",
            "\u001b[1m2241/2241\u001b[0m \u001b[32m━━━━━━━━━━━━━━━━━━━━\u001b[0m\u001b[37m\u001b[0m \u001b[1m451s\u001b[0m 184ms/step - loss: 1.2792e-05 - val_loss: 1.1791e-07\n",
            "Epoch 19/50\n",
            "\u001b[1m2241/2241\u001b[0m \u001b[32m━━━━━━━━━━━━━━━━━━━━\u001b[0m\u001b[37m\u001b[0m \u001b[1m412s\u001b[0m 184ms/step - loss: 1.3537e-05 - val_loss: 8.0438e-07\n",
            "Epoch 20/50\n",
            "\u001b[1m2241/2241\u001b[0m \u001b[32m━━━━━━━━━━━━━━━━━━━━\u001b[0m\u001b[37m\u001b[0m \u001b[1m412s\u001b[0m 184ms/step - loss: 1.2406e-05 - val_loss: 3.4786e-07\n",
            "Epoch 21/50\n",
            "\u001b[1m2241/2241\u001b[0m \u001b[32m━━━━━━━━━━━━━━━━━━━━\u001b[0m\u001b[37m\u001b[0m \u001b[1m412s\u001b[0m 184ms/step - loss: 1.3400e-05 - val_loss: 2.7271e-06\n",
            "Epoch 22/50\n",
            "\u001b[1m2241/2241\u001b[0m \u001b[32m━━━━━━━━━━━━━━━━━━━━\u001b[0m\u001b[37m\u001b[0m \u001b[1m432s\u001b[0m 179ms/step - loss: 1.2195e-05 - val_loss: 5.1779e-07\n",
            "Epoch 23/50\n",
            "\u001b[1m 884/2241\u001b[0m \u001b[32m━━━━━━━\u001b[0m\u001b[37m━━━━━━━━━━━━━\u001b[0m \u001b[1m3:43\u001b[0m 165ms/step - loss: 1.1415e-05"
          ]
        }
      ]
    },
    {
      "cell_type": "code",
      "source": [
        "# ==========================\n",
        "# 8. Predicciones\n",
        "# ==========================\n",
        "predictions = model.predict(X_test)\n",
        "\n",
        "# Invertimos la escala para ver precios reales\n",
        "predictions = scaler.inverse_transform(predictions.reshape(-1,1))\n",
        "real = scaler.inverse_transform(y_test.reshape(-1,1))\n",
        "\n",
        "# ==========================\n",
        "# 9. Visualización de resultados\n",
        "# ==========================\n",
        "plt.figure(figsize=(12,6))\n",
        "plt.plot(real, label='Real')\n",
        "plt.plot(predictions, label='Predicción')\n",
        "plt.title(\"📈 Predicción de Precios con LSTM Mejorado\")\n",
        "plt.xlabel(\"Tiempo\")\n",
        "plt.ylabel(\"Precio\")\n",
        "plt.legend()\n",
        "plt.show()\n"
      ],
      "metadata": {
        "id": "nfnvKEdUkhE8"
      },
      "execution_count": null,
      "outputs": []
    },
    {
      "cell_type": "code",
      "source": [
        "# ==========================\n",
        "# 8. Predicciones\n",
        "# ==========================\n",
        "predictions = model.predict(X_test)\n",
        "\n",
        "# Invertimos la escala para ver precios reales\n",
        "predictions = scaler.inverse_transform(predictions.reshape(-1,1))\n",
        "real = scaler.inverse_transform(y_test.reshape(-1,1))\n",
        "\n",
        "# ==========================\n",
        "# 9. Visualización de resultados\n",
        "# ==========================\n",
        "plt.figure(figsize=(12,6))\n",
        "plt.plot(real, label='Real')\n",
        "plt.plot(predictions, label='Predicción')\n",
        "plt.title(\"📈 Predicción de Precios con LSTM Mejorado\")\n",
        "plt.xlabel(\"Tiempo\")\n",
        "plt.ylabel(\"Precio\")\n",
        "plt.legend()\n",
        "plt.show()\n"
      ],
      "metadata": {
        "id": "xQE5Xh47ki4j"
      },
      "execution_count": null,
      "outputs": []
    },
    {
      "cell_type": "code",
      "source": [
        "# ==========================\n",
        "# 10. Calcular RMSE y MAPE\n",
        "# ==========================\n",
        "from sklearn.metrics import mean_squared_error, mean_absolute_percentage_error\n",
        "\n",
        "rmse = np.sqrt(mean_squared_error(real, predictions))\n",
        "mape = mean_absolute_percentage_error(real, predictions)\n",
        "\n",
        "print(\"📊 Evaluación del modelo:\")\n",
        "print(f\"RMSE: {rmse}\")\n",
        "print(f\"MAPE: {mape}\")\n"
      ],
      "metadata": {
        "id": "3jIMiq8_kkeD"
      },
      "execution_count": null,
      "outputs": []
    }
  ]
}