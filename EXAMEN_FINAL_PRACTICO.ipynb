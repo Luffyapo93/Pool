{
  "nbformat": 4,
  "nbformat_minor": 0,
  "metadata": {
    "colab": {
      "provenance": [],
      "authorship_tag": "ABX9TyNxrr8HKYg73AeANsj4Hy07",
      "include_colab_link": true
    },
    "kernelspec": {
      "name": "python3",
      "display_name": "Python 3"
    },
    "language_info": {
      "name": "python"
    }
  },
  "cells": [
    {
      "cell_type": "markdown",
      "metadata": {
        "id": "view-in-github",
        "colab_type": "text"
      },
      "source": [
        "<a href=\"https://colab.research.google.com/github/Luffyapo93/Pool/blob/main/EXAMEN_FINAL_PRACTICO.ipynb\" target=\"_parent\"><img src=\"https://colab.research.google.com/assets/colab-badge.svg\" alt=\"Open In Colab\"/></a>"
      ]
    },
    {
      "cell_type": "markdown",
      "source": [
        "Parte 1: Fundamentos NumPy"
      ],
      "metadata": {
        "id": "BBTnzZSGiksw"
      }
    },
    {
      "cell_type": "markdown",
      "source": [
        "1.-"
      ],
      "metadata": {
        "id": "_2MTWqsBkYLI"
      }
    },
    {
      "cell_type": "code",
      "metadata": {
        "colab": {
          "base_uri": "https://localhost:8080/"
        },
        "id": "9c5c211c",
        "outputId": "fb0b23cc-4686-4b47-ee5e-a9a4321defc2"
      },
      "source": [
        "import numpy as np\n",
        "\n",
        "# Crear el arreglo NumPy del 1 al 20\n",
        "arreglo_numpy = np.arange(1, 21)\n",
        "\n",
        "# Mostrar el arreglo\n",
        "print(arreglo_numpy)"
      ],
      "execution_count": 5,
      "outputs": [
        {
          "output_type": "stream",
          "name": "stdout",
          "text": [
            "[ 1  2  3  4  5  6  7  8  9 10 11 12 13 14 15 16 17 18 19 20]\n"
          ]
        }
      ]
    },
    {
      "cell_type": "markdown",
      "source": [
        "2.-"
      ],
      "metadata": {
        "id": "G31C3AOlkaMz"
      }
    },
    {
      "cell_type": "code",
      "source": [
        "# Seleccionar los múltiplos de 3\n",
        "multiplos_de_3 = arreglo_numpy[arreglo_numpy % 3 == 0]\n",
        "\n",
        "print(\"-------------------------------------------------------------\")\n",
        "# Mostrar los múltiplos de 3\n",
        "print(\"Múltiplos de 3:\")\n",
        "print(multiplos_de_3)"
      ],
      "metadata": {
        "colab": {
          "base_uri": "https://localhost:8080/"
        },
        "id": "Dsv7nCFnjBqo",
        "outputId": "f809d697-89e8-4c82-c0bc-47ba9c618214"
      },
      "execution_count": 4,
      "outputs": [
        {
          "output_type": "stream",
          "name": "stdout",
          "text": [
            "-------------------------------------------------------------\n",
            "Múltiplos de 3:\n",
            "[ 3  6  9 12 15 18]\n"
          ]
        }
      ]
    },
    {
      "cell_type": "markdown",
      "source": [
        "3.-"
      ],
      "metadata": {
        "id": "iOhLuRQokbnc"
      }
    },
    {
      "cell_type": "code",
      "source": [
        "import numpy as np\n",
        "\n",
        "matriz = np.random.rand(5, 5)\n",
        "print(matriz)\n"
      ],
      "metadata": {
        "colab": {
          "base_uri": "https://localhost:8080/"
        },
        "id": "0sp1hmwFjCZX",
        "outputId": "0386af09-d6df-4f83-912b-8e90069ff99a"
      },
      "execution_count": 8,
      "outputs": [
        {
          "output_type": "stream",
          "name": "stdout",
          "text": [
            "[[0.15468118 0.11352536 0.48794417 0.97990708 0.88957777]\n",
            " [0.18201562 0.14842653 0.89944155 0.10274079 0.4419001 ]\n",
            " [0.28595909 0.86828128 0.93026245 0.43500188 0.87338984]\n",
            " [0.11832987 0.82308339 0.14753676 0.90053564 0.87188852]\n",
            " [0.67487422 0.20705161 0.79362097 0.76968193 0.36470899]]\n"
          ]
        }
      ]
    },
    {
      "cell_type": "markdown",
      "source": [
        "4.-"
      ],
      "metadata": {
        "id": "1gox1Bmzkc-l"
      }
    },
    {
      "cell_type": "code",
      "source": [
        "import numpy as np\n",
        "\n",
        "# Generar la matriz aleatoria 5x5\n",
        "matriz = np.random.rand(5, 5)\n",
        "\n",
        "# Calcular la media\n",
        "media = np.mean(matriz)\n",
        "\n",
        "# Calcular la desviación estándar\n",
        "desviacion = np.std(matriz)\n",
        "\n",
        "# Calcular el valor máximo\n",
        "maximo = np.max(matriz)\n",
        "\n",
        "# Mostrar resultados\n",
        "print(\"Matriz:\\n\", matriz)\n",
        "print(\"Media:\", media)\n",
        "print(\"Desviación estándar:\", desviacion)\n",
        "print(\"Valor máximo:\", maximo)\n"
      ],
      "metadata": {
        "colab": {
          "base_uri": "https://localhost:8080/"
        },
        "id": "3OpZYSg-jg6J",
        "outputId": "96c09251-3a7f-4b78-f201-a0e5879e7461"
      },
      "execution_count": 7,
      "outputs": [
        {
          "output_type": "stream",
          "name": "stdout",
          "text": [
            "Matriz:\n",
            " [[0.56965685 0.64270018 0.01109559 0.91648276 0.06940388]\n",
            " [0.00512368 0.06062648 0.89400674 0.95162466 0.22238781]\n",
            " [0.40135946 0.39767834 0.89347402 0.23234521 0.72746256]\n",
            " [0.83024773 0.93274768 0.67380191 0.20393395 0.14041655]\n",
            " [0.20994999 0.02584379 0.54784078 0.01712272 0.07622973]]\n",
            "Media: 0.42614252208391096\n",
            "Desviación estándar: 0.34216118657570077\n",
            "Valor máximo: 0.9516246585367407\n"
          ]
        }
      ]
    },
    {
      "cell_type": "markdown",
      "source": [
        "5.-"
      ],
      "metadata": {
        "id": "GM9JL6y_kea0"
      }
    },
    {
      "cell_type": "code",
      "source": [
        "import numpy as np\n",
        "\n",
        "# Generar la matriz aleatoria 5x5\n",
        "matriz = np.random.rand(5, 5)\n",
        "\n",
        "# Transformar la matriz en un vector 1D\n",
        "vector = matriz.flatten()\n",
        "\n",
        "# Mostrar resultados\n",
        "print(\"Matriz original:\\n\", matriz)\n",
        "print(\"Vector de una dimensión:\\n\", vector)\n"
      ],
      "metadata": {
        "colab": {
          "base_uri": "https://localhost:8080/"
        },
        "id": "x3ropjHBkIw5",
        "outputId": "804a637c-3060-415b-aaaa-e8e50caa574d"
      },
      "execution_count": 9,
      "outputs": [
        {
          "output_type": "stream",
          "name": "stdout",
          "text": [
            "Matriz original:\n",
            " [[0.03107612 0.19747264 0.33829989 0.93811883 0.89603219]\n",
            " [0.78583129 0.17613563 0.49386377 0.88159629 0.62835107]\n",
            " [0.50232328 0.20453259 0.23419349 0.50479389 0.68040411]\n",
            " [0.16222084 0.01835799 0.0886528  0.68810751 0.23478778]\n",
            " [0.93711985 0.30306209 0.86229396 0.54034248 0.86863193]]\n",
            "Vector de una dimensión:\n",
            " [0.03107612 0.19747264 0.33829989 0.93811883 0.89603219 0.78583129\n",
            " 0.17613563 0.49386377 0.88159629 0.62835107 0.50232328 0.20453259\n",
            " 0.23419349 0.50479389 0.68040411 0.16222084 0.01835799 0.0886528\n",
            " 0.68810751 0.23478778 0.93711985 0.30306209 0.86229396 0.54034248\n",
            " 0.86863193]\n"
          ]
        }
      ]
    },
    {
      "cell_type": "markdown",
      "source": [
        "Parte 2: Fundamentos Pandas"
      ],
      "metadata": {
        "id": "DU08Eud5lQbc"
      }
    },
    {
      "cell_type": "markdown",
      "source": [
        "1.-"
      ],
      "metadata": {
        "id": "41RjpxFLlgwW"
      }
    },
    {
      "cell_type": "code",
      "metadata": {
        "colab": {
          "base_uri": "https://localhost:8080/"
        },
        "id": "39288775",
        "outputId": "7da7ad9c-c739-4223-9e4c-d890798e9857"
      },
      "source": [
        "import pandas as pd\n",
        "\n",
        "data = {'Nombre': ['Ana', 'Luis', 'María', 'Pedro', 'Sofía'],\n",
        "        'Edad': [20, 21, 19, 22, 20],\n",
        "        'Nota_Matemáticas': [18, 15, 16, 12, 19],\n",
        "        'Nota_IA': [17, 14, 18, 13, 20]}\n",
        "\n",
        "df = pd.DataFrame(data)\n",
        "\n",
        "print(df)"
      ],
      "execution_count": 10,
      "outputs": [
        {
          "output_type": "stream",
          "name": "stdout",
          "text": [
            "  Nombre  Edad  Nota_Matemáticas  Nota_IA\n",
            "0    Ana    20                18       17\n",
            "1   Luis    21                15       14\n",
            "2  María    19                16       18\n",
            "3  Pedro    22                12       13\n",
            "4  Sofía    20                19       20\n"
          ]
        }
      ]
    },
    {
      "cell_type": "markdown",
      "source": [
        "2.-"
      ],
      "metadata": {
        "id": "TpbcA8mVljX_"
      }
    },
    {
      "cell_type": "code",
      "metadata": {
        "colab": {
          "base_uri": "https://localhost:8080/"
        },
        "id": "5ba9caba",
        "outputId": "3a56a350-1f9a-4795-cf03-2bec86081576"
      },
      "source": [
        "# Calcular el promedio de cada columna numérica\n",
        "promedio_columnas = df.mean(numeric_only=True)\n",
        "\n",
        "# Mostrar los promedios\n",
        "print(\"Promedio de cada columna numérica:\")\n",
        "print(promedio_columnas)"
      ],
      "execution_count": 11,
      "outputs": [
        {
          "output_type": "stream",
          "name": "stdout",
          "text": [
            "Promedio de cada columna numérica:\n",
            "Edad                20.4\n",
            "Nota_Matemáticas    16.0\n",
            "Nota_IA             16.4\n",
            "dtype: float64\n"
          ]
        }
      ]
    },
    {
      "cell_type": "markdown",
      "source": [
        "3.-"
      ],
      "metadata": {
        "id": "vOZ1carXltO2"
      }
    },
    {
      "cell_type": "code",
      "metadata": {
        "colab": {
          "base_uri": "https://localhost:8080/"
        },
        "id": "a551c6ac",
        "outputId": "e870a4c6-a8d0-4abb-8b3b-686f1ccbe8bc"
      },
      "source": [
        "# Filtrar estudiantes con nota de IA mayor a 15\n",
        "estudiantes_ia_alta = df[df['Nota_IA'] > 15]\n",
        "\n",
        "# Mostrar el DataFrame filtrado\n",
        "print(\"Estudiantes con Nota_IA mayor a 15:\")\n",
        "print(estudiantes_ia_alta)"
      ],
      "execution_count": 12,
      "outputs": [
        {
          "output_type": "stream",
          "name": "stdout",
          "text": [
            "Estudiantes con Nota_IA mayor a 15:\n",
            "  Nombre  Edad  Nota_Matemáticas  Nota_IA\n",
            "0    Ana    20                18       17\n",
            "2  María    19                16       18\n",
            "4  Sofía    20                19       20\n"
          ]
        }
      ]
    },
    {
      "cell_type": "markdown",
      "source": [
        "4.-"
      ],
      "metadata": {
        "id": "w23zwPDZlz7W"
      }
    },
    {
      "cell_type": "code",
      "metadata": {
        "colab": {
          "base_uri": "https://localhost:8080/"
        },
        "id": "13e70d81",
        "outputId": "35c4e0a7-b57c-4529-cc29-39cbfd87aa1e"
      },
      "source": [
        "# Agregar una nueva columna 'Promedio'\n",
        "df['Promedio'] = (df['Nota_Matemáticas'] + df['Nota_IA']) / 2\n",
        "\n",
        "# Mostrar el DataFrame con la nueva columna\n",
        "print(\"DataFrame con la columna 'Promedio':\")\n",
        "print(df)"
      ],
      "execution_count": 13,
      "outputs": [
        {
          "output_type": "stream",
          "name": "stdout",
          "text": [
            "DataFrame con la columna 'Promedio':\n",
            "  Nombre  Edad  Nota_Matemáticas  Nota_IA  Promedio\n",
            "0    Ana    20                18       17      17.5\n",
            "1   Luis    21                15       14      14.5\n",
            "2  María    19                16       18      17.0\n",
            "3  Pedro    22                12       13      12.5\n",
            "4  Sofía    20                19       20      19.5\n"
          ]
        }
      ]
    },
    {
      "cell_type": "markdown",
      "source": [
        "5.-"
      ],
      "metadata": {
        "id": "bPbpdgHQmPrg"
      }
    },
    {
      "cell_type": "code",
      "metadata": {
        "colab": {
          "base_uri": "https://localhost:8080/",
          "height": 224
        },
        "id": "a3e20cdd",
        "outputId": "cf3ca3b8-f810-4f1d-c875-9f294e6c829f"
      },
      "source": [
        "# Ordenar el DataFrame por la columna 'Promedio' de mayor a menor\n",
        "df_ordenado_promedio = df.sort_values(by='Promedio', ascending=False)\n",
        "\n",
        "# Mostrar el DataFrame ordenado\n",
        "print(\"DataFrame ordenado por Promedio (de mayor a menor):\")\n",
        "display(df_ordenado_promedio)"
      ],
      "execution_count": 14,
      "outputs": [
        {
          "output_type": "stream",
          "name": "stdout",
          "text": [
            "DataFrame ordenado por Promedio (de mayor a menor):\n"
          ]
        },
        {
          "output_type": "display_data",
          "data": {
            "text/plain": [
              "  Nombre  Edad  Nota_Matemáticas  Nota_IA  Promedio\n",
              "4  Sofía    20                19       20      19.5\n",
              "0    Ana    20                18       17      17.5\n",
              "2  María    19                16       18      17.0\n",
              "1   Luis    21                15       14      14.5\n",
              "3  Pedro    22                12       13      12.5"
            ],
            "text/html": [
              "\n",
              "  <div id=\"df-b0625a78-361d-40ba-b0a9-1f51b1825448\" class=\"colab-df-container\">\n",
              "    <div>\n",
              "<style scoped>\n",
              "    .dataframe tbody tr th:only-of-type {\n",
              "        vertical-align: middle;\n",
              "    }\n",
              "\n",
              "    .dataframe tbody tr th {\n",
              "        vertical-align: top;\n",
              "    }\n",
              "\n",
              "    .dataframe thead th {\n",
              "        text-align: right;\n",
              "    }\n",
              "</style>\n",
              "<table border=\"1\" class=\"dataframe\">\n",
              "  <thead>\n",
              "    <tr style=\"text-align: right;\">\n",
              "      <th></th>\n",
              "      <th>Nombre</th>\n",
              "      <th>Edad</th>\n",
              "      <th>Nota_Matemáticas</th>\n",
              "      <th>Nota_IA</th>\n",
              "      <th>Promedio</th>\n",
              "    </tr>\n",
              "  </thead>\n",
              "  <tbody>\n",
              "    <tr>\n",
              "      <th>4</th>\n",
              "      <td>Sofía</td>\n",
              "      <td>20</td>\n",
              "      <td>19</td>\n",
              "      <td>20</td>\n",
              "      <td>19.5</td>\n",
              "    </tr>\n",
              "    <tr>\n",
              "      <th>0</th>\n",
              "      <td>Ana</td>\n",
              "      <td>20</td>\n",
              "      <td>18</td>\n",
              "      <td>17</td>\n",
              "      <td>17.5</td>\n",
              "    </tr>\n",
              "    <tr>\n",
              "      <th>2</th>\n",
              "      <td>María</td>\n",
              "      <td>19</td>\n",
              "      <td>16</td>\n",
              "      <td>18</td>\n",
              "      <td>17.0</td>\n",
              "    </tr>\n",
              "    <tr>\n",
              "      <th>1</th>\n",
              "      <td>Luis</td>\n",
              "      <td>21</td>\n",
              "      <td>15</td>\n",
              "      <td>14</td>\n",
              "      <td>14.5</td>\n",
              "    </tr>\n",
              "    <tr>\n",
              "      <th>3</th>\n",
              "      <td>Pedro</td>\n",
              "      <td>22</td>\n",
              "      <td>12</td>\n",
              "      <td>13</td>\n",
              "      <td>12.5</td>\n",
              "    </tr>\n",
              "  </tbody>\n",
              "</table>\n",
              "</div>\n",
              "    <div class=\"colab-df-buttons\">\n",
              "\n",
              "  <div class=\"colab-df-container\">\n",
              "    <button class=\"colab-df-convert\" onclick=\"convertToInteractive('df-b0625a78-361d-40ba-b0a9-1f51b1825448')\"\n",
              "            title=\"Convert this dataframe to an interactive table.\"\n",
              "            style=\"display:none;\">\n",
              "\n",
              "  <svg xmlns=\"http://www.w3.org/2000/svg\" height=\"24px\" viewBox=\"0 -960 960 960\">\n",
              "    <path d=\"M120-120v-720h720v720H120Zm60-500h600v-160H180v160Zm220 220h160v-160H400v160Zm0 220h160v-160H400v160ZM180-400h160v-160H180v160Zm440 0h160v-160H620v160ZM180-180h160v-160H180v160Zm440 0h160v-160H620v160Z\"/>\n",
              "  </svg>\n",
              "    </button>\n",
              "\n",
              "  <style>\n",
              "    .colab-df-container {\n",
              "      display:flex;\n",
              "      gap: 12px;\n",
              "    }\n",
              "\n",
              "    .colab-df-convert {\n",
              "      background-color: #E8F0FE;\n",
              "      border: none;\n",
              "      border-radius: 50%;\n",
              "      cursor: pointer;\n",
              "      display: none;\n",
              "      fill: #1967D2;\n",
              "      height: 32px;\n",
              "      padding: 0 0 0 0;\n",
              "      width: 32px;\n",
              "    }\n",
              "\n",
              "    .colab-df-convert:hover {\n",
              "      background-color: #E2EBFA;\n",
              "      box-shadow: 0px 1px 2px rgba(60, 64, 67, 0.3), 0px 1px 3px 1px rgba(60, 64, 67, 0.15);\n",
              "      fill: #174EA6;\n",
              "    }\n",
              "\n",
              "    .colab-df-buttons div {\n",
              "      margin-bottom: 4px;\n",
              "    }\n",
              "\n",
              "    [theme=dark] .colab-df-convert {\n",
              "      background-color: #3B4455;\n",
              "      fill: #D2E3FC;\n",
              "    }\n",
              "\n",
              "    [theme=dark] .colab-df-convert:hover {\n",
              "      background-color: #434B5C;\n",
              "      box-shadow: 0px 1px 3px 1px rgba(0, 0, 0, 0.15);\n",
              "      filter: drop-shadow(0px 1px 2px rgba(0, 0, 0, 0.3));\n",
              "      fill: #FFFFFF;\n",
              "    }\n",
              "  </style>\n",
              "\n",
              "    <script>\n",
              "      const buttonEl =\n",
              "        document.querySelector('#df-b0625a78-361d-40ba-b0a9-1f51b1825448 button.colab-df-convert');\n",
              "      buttonEl.style.display =\n",
              "        google.colab.kernel.accessAllowed ? 'block' : 'none';\n",
              "\n",
              "      async function convertToInteractive(key) {\n",
              "        const element = document.querySelector('#df-b0625a78-361d-40ba-b0a9-1f51b1825448');\n",
              "        const dataTable =\n",
              "          await google.colab.kernel.invokeFunction('convertToInteractive',\n",
              "                                                    [key], {});\n",
              "        if (!dataTable) return;\n",
              "\n",
              "        const docLinkHtml = 'Like what you see? Visit the ' +\n",
              "          '<a target=\"_blank\" href=https://colab.research.google.com/notebooks/data_table.ipynb>data table notebook</a>'\n",
              "          + ' to learn more about interactive tables.';\n",
              "        element.innerHTML = '';\n",
              "        dataTable['output_type'] = 'display_data';\n",
              "        await google.colab.output.renderOutput(dataTable, element);\n",
              "        const docLink = document.createElement('div');\n",
              "        docLink.innerHTML = docLinkHtml;\n",
              "        element.appendChild(docLink);\n",
              "      }\n",
              "    </script>\n",
              "  </div>\n",
              "\n",
              "\n",
              "    <div id=\"df-2ddbe4a9-fdb4-4a6a-9d7c-77c98acfb7bf\">\n",
              "      <button class=\"colab-df-quickchart\" onclick=\"quickchart('df-2ddbe4a9-fdb4-4a6a-9d7c-77c98acfb7bf')\"\n",
              "                title=\"Suggest charts\"\n",
              "                style=\"display:none;\">\n",
              "\n",
              "<svg xmlns=\"http://www.w3.org/2000/svg\" height=\"24px\"viewBox=\"0 0 24 24\"\n",
              "     width=\"24px\">\n",
              "    <g>\n",
              "        <path d=\"M19 3H5c-1.1 0-2 .9-2 2v14c0 1.1.9 2 2 2h14c1.1 0 2-.9 2-2V5c0-1.1-.9-2-2-2zM9 17H7v-7h2v7zm4 0h-2V7h2v10zm4 0h-2v-4h2v4z\"/>\n",
              "    </g>\n",
              "</svg>\n",
              "      </button>\n",
              "\n",
              "<style>\n",
              "  .colab-df-quickchart {\n",
              "      --bg-color: #E8F0FE;\n",
              "      --fill-color: #1967D2;\n",
              "      --hover-bg-color: #E2EBFA;\n",
              "      --hover-fill-color: #174EA6;\n",
              "      --disabled-fill-color: #AAA;\n",
              "      --disabled-bg-color: #DDD;\n",
              "  }\n",
              "\n",
              "  [theme=dark] .colab-df-quickchart {\n",
              "      --bg-color: #3B4455;\n",
              "      --fill-color: #D2E3FC;\n",
              "      --hover-bg-color: #434B5C;\n",
              "      --hover-fill-color: #FFFFFF;\n",
              "      --disabled-bg-color: #3B4455;\n",
              "      --disabled-fill-color: #666;\n",
              "  }\n",
              "\n",
              "  .colab-df-quickchart {\n",
              "    background-color: var(--bg-color);\n",
              "    border: none;\n",
              "    border-radius: 50%;\n",
              "    cursor: pointer;\n",
              "    display: none;\n",
              "    fill: var(--fill-color);\n",
              "    height: 32px;\n",
              "    padding: 0;\n",
              "    width: 32px;\n",
              "  }\n",
              "\n",
              "  .colab-df-quickchart:hover {\n",
              "    background-color: var(--hover-bg-color);\n",
              "    box-shadow: 0 1px 2px rgba(60, 64, 67, 0.3), 0 1px 3px 1px rgba(60, 64, 67, 0.15);\n",
              "    fill: var(--button-hover-fill-color);\n",
              "  }\n",
              "\n",
              "  .colab-df-quickchart-complete:disabled,\n",
              "  .colab-df-quickchart-complete:disabled:hover {\n",
              "    background-color: var(--disabled-bg-color);\n",
              "    fill: var(--disabled-fill-color);\n",
              "    box-shadow: none;\n",
              "  }\n",
              "\n",
              "  .colab-df-spinner {\n",
              "    border: 2px solid var(--fill-color);\n",
              "    border-color: transparent;\n",
              "    border-bottom-color: var(--fill-color);\n",
              "    animation:\n",
              "      spin 1s steps(1) infinite;\n",
              "  }\n",
              "\n",
              "  @keyframes spin {\n",
              "    0% {\n",
              "      border-color: transparent;\n",
              "      border-bottom-color: var(--fill-color);\n",
              "      border-left-color: var(--fill-color);\n",
              "    }\n",
              "    20% {\n",
              "      border-color: transparent;\n",
              "      border-left-color: var(--fill-color);\n",
              "      border-top-color: var(--fill-color);\n",
              "    }\n",
              "    30% {\n",
              "      border-color: transparent;\n",
              "      border-left-color: var(--fill-color);\n",
              "      border-top-color: var(--fill-color);\n",
              "      border-right-color: var(--fill-color);\n",
              "    }\n",
              "    40% {\n",
              "      border-color: transparent;\n",
              "      border-right-color: var(--fill-color);\n",
              "      border-top-color: var(--fill-color);\n",
              "    }\n",
              "    60% {\n",
              "      border-color: transparent;\n",
              "      border-right-color: var(--fill-color);\n",
              "    }\n",
              "    80% {\n",
              "      border-color: transparent;\n",
              "      border-right-color: var(--fill-color);\n",
              "      border-bottom-color: var(--fill-color);\n",
              "    }\n",
              "    90% {\n",
              "      border-color: transparent;\n",
              "      border-bottom-color: var(--fill-color);\n",
              "    }\n",
              "  }\n",
              "</style>\n",
              "\n",
              "      <script>\n",
              "        async function quickchart(key) {\n",
              "          const quickchartButtonEl =\n",
              "            document.querySelector('#' + key + ' button');\n",
              "          quickchartButtonEl.disabled = true;  // To prevent multiple clicks.\n",
              "          quickchartButtonEl.classList.add('colab-df-spinner');\n",
              "          try {\n",
              "            const charts = await google.colab.kernel.invokeFunction(\n",
              "                'suggestCharts', [key], {});\n",
              "          } catch (error) {\n",
              "            console.error('Error during call to suggestCharts:', error);\n",
              "          }\n",
              "          quickchartButtonEl.classList.remove('colab-df-spinner');\n",
              "          quickchartButtonEl.classList.add('colab-df-quickchart-complete');\n",
              "        }\n",
              "        (() => {\n",
              "          let quickchartButtonEl =\n",
              "            document.querySelector('#df-2ddbe4a9-fdb4-4a6a-9d7c-77c98acfb7bf button');\n",
              "          quickchartButtonEl.style.display =\n",
              "            google.colab.kernel.accessAllowed ? 'block' : 'none';\n",
              "        })();\n",
              "      </script>\n",
              "    </div>\n",
              "\n",
              "  <div id=\"id_dce3e511-887c-4b19-8858-3224aa2e4dcf\">\n",
              "    <style>\n",
              "      .colab-df-generate {\n",
              "        background-color: #E8F0FE;\n",
              "        border: none;\n",
              "        border-radius: 50%;\n",
              "        cursor: pointer;\n",
              "        display: none;\n",
              "        fill: #1967D2;\n",
              "        height: 32px;\n",
              "        padding: 0 0 0 0;\n",
              "        width: 32px;\n",
              "      }\n",
              "\n",
              "      .colab-df-generate:hover {\n",
              "        background-color: #E2EBFA;\n",
              "        box-shadow: 0px 1px 2px rgba(60, 64, 67, 0.3), 0px 1px 3px 1px rgba(60, 64, 67, 0.15);\n",
              "        fill: #174EA6;\n",
              "      }\n",
              "\n",
              "      [theme=dark] .colab-df-generate {\n",
              "        background-color: #3B4455;\n",
              "        fill: #D2E3FC;\n",
              "      }\n",
              "\n",
              "      [theme=dark] .colab-df-generate:hover {\n",
              "        background-color: #434B5C;\n",
              "        box-shadow: 0px 1px 3px 1px rgba(0, 0, 0, 0.15);\n",
              "        filter: drop-shadow(0px 1px 2px rgba(0, 0, 0, 0.3));\n",
              "        fill: #FFFFFF;\n",
              "      }\n",
              "    </style>\n",
              "    <button class=\"colab-df-generate\" onclick=\"generateWithVariable('df_ordenado_promedio')\"\n",
              "            title=\"Generate code using this dataframe.\"\n",
              "            style=\"display:none;\">\n",
              "\n",
              "  <svg xmlns=\"http://www.w3.org/2000/svg\" height=\"24px\"viewBox=\"0 0 24 24\"\n",
              "       width=\"24px\">\n",
              "    <path d=\"M7,19H8.4L18.45,9,17,7.55,7,17.6ZM5,21V16.75L18.45,3.32a2,2,0,0,1,2.83,0l1.4,1.43a1.91,1.91,0,0,1,.58,1.4,1.91,1.91,0,0,1-.58,1.4L9.25,21ZM18.45,9,17,7.55Zm-12,3A5.31,5.31,0,0,0,4.9,8.1,5.31,5.31,0,0,0,1,6.5,5.31,5.31,0,0,0,4.9,4.9,5.31,5.31,0,0,0,6.5,1,5.31,5.31,0,0,0,8.1,4.9,5.31,5.31,0,0,0,12,6.5,5.46,5.46,0,0,0,6.5,12Z\"/>\n",
              "  </svg>\n",
              "    </button>\n",
              "    <script>\n",
              "      (() => {\n",
              "      const buttonEl =\n",
              "        document.querySelector('#id_dce3e511-887c-4b19-8858-3224aa2e4dcf button.colab-df-generate');\n",
              "      buttonEl.style.display =\n",
              "        google.colab.kernel.accessAllowed ? 'block' : 'none';\n",
              "\n",
              "      buttonEl.onclick = () => {\n",
              "        google.colab.notebook.generateWithVariable('df_ordenado_promedio');\n",
              "      }\n",
              "      })();\n",
              "    </script>\n",
              "  </div>\n",
              "\n",
              "    </div>\n",
              "  </div>\n"
            ],
            "application/vnd.google.colaboratory.intrinsic+json": {
              "type": "dataframe",
              "variable_name": "df_ordenado_promedio",
              "summary": "{\n  \"name\": \"df_ordenado_promedio\",\n  \"rows\": 5,\n  \"fields\": [\n    {\n      \"column\": \"Nombre\",\n      \"properties\": {\n        \"dtype\": \"string\",\n        \"num_unique_values\": 5,\n        \"samples\": [\n          \"Ana\",\n          \"Pedro\",\n          \"Mar\\u00eda\"\n        ],\n        \"semantic_type\": \"\",\n        \"description\": \"\"\n      }\n    },\n    {\n      \"column\": \"Edad\",\n      \"properties\": {\n        \"dtype\": \"number\",\n        \"std\": 1,\n        \"min\": 19,\n        \"max\": 22,\n        \"num_unique_values\": 4,\n        \"samples\": [\n          19,\n          22,\n          20\n        ],\n        \"semantic_type\": \"\",\n        \"description\": \"\"\n      }\n    },\n    {\n      \"column\": \"Nota_Matem\\u00e1ticas\",\n      \"properties\": {\n        \"dtype\": \"number\",\n        \"std\": 2,\n        \"min\": 12,\n        \"max\": 19,\n        \"num_unique_values\": 5,\n        \"samples\": [\n          18,\n          12,\n          16\n        ],\n        \"semantic_type\": \"\",\n        \"description\": \"\"\n      }\n    },\n    {\n      \"column\": \"Nota_IA\",\n      \"properties\": {\n        \"dtype\": \"number\",\n        \"std\": 2,\n        \"min\": 13,\n        \"max\": 20,\n        \"num_unique_values\": 5,\n        \"samples\": [\n          17,\n          13,\n          18\n        ],\n        \"semantic_type\": \"\",\n        \"description\": \"\"\n      }\n    },\n    {\n      \"column\": \"Promedio\",\n      \"properties\": {\n        \"dtype\": \"number\",\n        \"std\": 2.729468812791236,\n        \"min\": 12.5,\n        \"max\": 19.5,\n        \"num_unique_values\": 5,\n        \"samples\": [\n          17.5,\n          12.5,\n          17.0\n        ],\n        \"semantic_type\": \"\",\n        \"description\": \"\"\n      }\n    }\n  ]\n}"
            }
          },
          "metadata": {}
        }
      ]
    },
    {
      "cell_type": "markdown",
      "source": [
        "Parte 3: Algoritmia aplicada"
      ],
      "metadata": {
        "id": "qcNIPIpqmhXQ"
      }
    },
    {
      "cell_type": "markdown",
      "source": [
        "1.-"
      ],
      "metadata": {
        "id": "nCgvAf1smiTP"
      }
    },
    {
      "cell_type": "code",
      "source": [
        "def analizar_lista(numeros):\n",
        "    if not numeros:\n",
        "        return \"La lista está vacía.\"\n",
        "\n",
        "    mayor = max(numeros)\n",
        "    menor = min(numeros)\n",
        "    promedio = sum(numeros) / len(numeros)\n",
        "\n",
        "    return mayor, menor, promedio\n",
        "\n",
        "# Ejemplo de uso:\n",
        "lista = [5, 10, 3, 8, 2]\n",
        "resultado = analizar_lista(lista)\n",
        "\n",
        "print(\"Número mayor:\", resultado[0])\n",
        "print(\"Número menor:\", resultado[1])\n",
        "print(\"Promedio:\", resultado[2])\n"
      ],
      "metadata": {
        "colab": {
          "base_uri": "https://localhost:8080/"
        },
        "id": "H5xuCUfKmqeN",
        "outputId": "3adccd2a-1bf6-4cec-d11a-8e99ddc01527"
      },
      "execution_count": 15,
      "outputs": [
        {
          "output_type": "stream",
          "name": "stdout",
          "text": [
            "Número mayor: 10\n",
            "Número menor: 2\n",
            "Promedio: 5.6\n"
          ]
        }
      ]
    },
    {
      "cell_type": "markdown",
      "source": [
        "2.-"
      ],
      "metadata": {
        "id": "JvMXrG2zm2R4"
      }
    },
    {
      "cell_type": "code",
      "source": [
        "import numpy as np\n",
        "\n",
        "def sigmoide(x):\n",
        "    return 1 / (1 + np.exp(-x))\n",
        "\n",
        "# Arreglo de ejemplo\n",
        "x = np.array([-2, -1, 0, 1, 2])\n",
        "\n",
        "# Aplicar la función sigmoide\n",
        "resultado = sigmoide(x)\n",
        "\n",
        "print(\"Entrada:\", x)\n",
        "print(\"Salida sigmoide:\", resultado)\n"
      ],
      "metadata": {
        "colab": {
          "base_uri": "https://localhost:8080/"
        },
        "id": "dB881attm_rq",
        "outputId": "c0256a38-259e-42ec-dca8-4abe9951d8d7"
      },
      "execution_count": 16,
      "outputs": [
        {
          "output_type": "stream",
          "name": "stdout",
          "text": [
            "Entrada: [-2 -1  0  1  2]\n",
            "Salida sigmoide: [0.11920292 0.26894142 0.5        0.73105858 0.88079708]\n"
          ]
        }
      ]
    },
    {
      "cell_type": "markdown",
      "source": [
        "3.-"
      ],
      "metadata": {
        "id": "UiSScs9RnFAZ"
      }
    },
    {
      "cell_type": "code",
      "source": [
        "import pandas as pd\n",
        "\n",
        "# Ejemplo de DataFrame\n",
        "data = {\n",
        "    'Estudiante': ['Ana', 'Luis', 'María', 'Juan'],\n",
        "    'Promedio': [15, 13, 16, 12]\n",
        "}\n",
        "\n",
        "df = pd.DataFrame(data)\n",
        "\n",
        "# Función para clasificar\n",
        "def clasificar_estudiantes(df):\n",
        "    # Crear la columna 'Estado' con condiciones\n",
        "    df['Estado'] = df['Promedio'].apply(lambda x: 'Aprobado' if x >= 14 else 'Desaprobado')\n",
        "    return df\n",
        "\n",
        "# Aplicar la función\n",
        "df_clasificado = clasificar_estudiantes(df)\n",
        "\n",
        "print(df_clasificado)\n"
      ],
      "metadata": {
        "colab": {
          "base_uri": "https://localhost:8080/"
        },
        "id": "PEfTSrsRnGAb",
        "outputId": "f418f376-7d56-4f7a-aeeb-ef56d3b88aa4"
      },
      "execution_count": 17,
      "outputs": [
        {
          "output_type": "stream",
          "name": "stdout",
          "text": [
            "  Estudiante  Promedio       Estado\n",
            "0        Ana        15     Aprobado\n",
            "1       Luis        13  Desaprobado\n",
            "2      María        16     Aprobado\n",
            "3       Juan        12  Desaprobado\n"
          ]
        }
      ]
    },
    {
      "cell_type": "markdown",
      "source": [
        "Parte 4: Mini-proyecto"
      ],
      "metadata": {
        "id": "zWPgnGNAnPO6"
      }
    },
    {
      "cell_type": "code",
      "source": [
        "import pandas as pd\n",
        "\n",
        "# Datos iniciales\n",
        "datos = {\n",
        "    'Producto': ['A', 'B', 'C', 'D', 'E'],\n",
        "    'Ventas_2024': [120, 340, 560, 230, 150],\n",
        "    'Ventas_2025': [200, 400, 600, 300, 180]\n",
        "}\n",
        "\n",
        "df = pd.DataFrame(datos)\n",
        "\n",
        "# 1. Calcular el porcentaje de crecimiento y agregar la columna 'Crecimiento'\n",
        "df['Crecimiento'] = ((df['Ventas_2025'] - df['Ventas_2024']) / df['Ventas_2024']) * 100\n",
        "\n",
        "# 2. Identificar el producto con mayor crecimiento\n",
        "producto_mayor_crecimiento = df.loc[df['Crecimiento'].idxmax()]\n",
        "\n",
        "print(\"DataFrame con columna Crecimiento:\\n\", df)\n",
        "print(\"\\nProducto con mayor crecimiento:\")\n",
        "print(producto_mayor_crecimiento)\n"
      ],
      "metadata": {
        "colab": {
          "base_uri": "https://localhost:8080/"
        },
        "id": "9Xl6W8vvoZ-U",
        "outputId": "62e423c1-3524-4d3a-c46c-5d2faabf1d92"
      },
      "execution_count": 18,
      "outputs": [
        {
          "output_type": "stream",
          "name": "stdout",
          "text": [
            "DataFrame con columna Crecimiento:\n",
            "   Producto  Ventas_2024  Ventas_2025  Crecimiento\n",
            "0        A          120          200    66.666667\n",
            "1        B          340          400    17.647059\n",
            "2        C          560          600     7.142857\n",
            "3        D          230          300    30.434783\n",
            "4        E          150          180    20.000000\n",
            "\n",
            "Producto con mayor crecimiento:\n",
            "Producto               A\n",
            "Ventas_2024          120\n",
            "Ventas_2025          200\n",
            "Crecimiento    66.666667\n",
            "Name: 0, dtype: object\n"
          ]
        }
      ]
    },
    {
      "cell_type": "markdown",
      "source": [
        "Parte 5: Resolución de ecuaciones"
      ],
      "metadata": {
        "id": "AQ49nPJuokml"
      }
    },
    {
      "cell_type": "code",
      "metadata": {
        "colab": {
          "base_uri": "https://localhost:8080/"
        },
        "id": "7079fbd0",
        "outputId": "700928b2-aec4-4c98-c52f-d46dd03e7077"
      },
      "source": [
        "def resolver_ecuacion_primer_grado(a, b):\n",
        "    \"\"\"\n",
        "    Resuelve una ecuación de primer grado de la forma ax + b = 0.\n",
        "\n",
        "    Args:\n",
        "        a: Coeficiente de x.\n",
        "        b: Término independiente.\n",
        "\n",
        "    Returns:\n",
        "        El valor de x que resuelve la ecuación.\n",
        "        Retorna un mensaje si la ecuación no tiene solución única.\n",
        "    \"\"\"\n",
        "    if a == 0:\n",
        "        if b == 0:\n",
        "            return \"La ecuación tiene infinitas soluciones (0 = 0).\"\n",
        "        else:\n",
        "            return \"La ecuación no tiene solución (0 = b).\"\n",
        "    else:\n",
        "        x = -b / a\n",
        "        return x\n",
        "\n",
        "# Ejemplo de uso:\n",
        "a1 = 2\n",
        "b1 = 4\n",
        "solucion1 = resolver_ecuacion_primer_grado(a1, b1)\n",
        "print(f\"Para la ecuación {a1}x + {b1} = 0, la solución es x = {solucion1}\")\n",
        "\n",
        "a2 = 0\n",
        "b2 = 5\n",
        "solucion2 = resolver_ecuacion_primer_grado(a2, b2)\n",
        "print(f\"Para la ecuación {a2}x + {b2} = 0, la solución es {solucion2}\")\n",
        "\n",
        "a3 = 0\n",
        "b3 = 0\n",
        "solucion3 = resolver_ecuacion_primer_grado(a3, b3)\n",
        "print(f\"Para la ecuación {a3}x + {b3} = 0, la solución es {solucion3}\")"
      ],
      "execution_count": 19,
      "outputs": [
        {
          "output_type": "stream",
          "name": "stdout",
          "text": [
            "Para la ecuación 2x + 4 = 0, la solución es x = -2.0\n",
            "Para la ecuación 0x + 5 = 0, la solución es La ecuación no tiene solución (0 = b).\n",
            "Para la ecuación 0x + 0 = 0, la solución es La ecuación tiene infinitas soluciones (0 = 0).\n"
          ]
        }
      ]
    },
    {
      "cell_type": "code",
      "metadata": {
        "colab": {
          "base_uri": "https://localhost:8080/"
        },
        "id": "6bdb2134",
        "outputId": "97929a9b-67c0-4eb7-b21e-f5ef5d7962b9"
      },
      "source": [
        "import cmath # Importamos cmath para manejar números complejos\n",
        "\n",
        "def resolver_ecuacion_segundo_grado(a, b, c):\n",
        "    \"\"\"\n",
        "    Resuelve una ecuación de segundo grado de la forma ax^2 + bx + c = 0\n",
        "    usando la fórmula general.\n",
        "\n",
        "    Args:\n",
        "        a: Coeficiente de x^2.\n",
        "        b: Coeficiente de x.\n",
        "        c: Término independiente.\n",
        "\n",
        "    Returns:\n",
        "        Una tupla con las dos soluciones (pueden ser reales o complejas).\n",
        "        Retorna un mensaje si el coeficiente 'a' es cero.\n",
        "    \"\"\"\n",
        "    if a == 0:\n",
        "        return \"El coeficiente 'a' no puede ser cero para una ecuación de segundo grado.\"\n",
        "\n",
        "    # Calcular el discriminante\n",
        "    delta = (b**2) - 4*(a*c)\n",
        "\n",
        "    # Calcular las soluciones\n",
        "    x1 = (-b - cmath.sqrt(delta)) / (2*a)\n",
        "    x2 = (-b + cmath.sqrt(delta)) / (2*a)\n",
        "\n",
        "    return x1, x2\n",
        "\n",
        "# Ejemplo de uso:\n",
        "a_s1, b_s1, c_s1 = 1, -5, 6  # x^2 - 5x + 6 = 0 -> (x-2)(x-3) = 0\n",
        "soluciones1 = resolver_ecuacion_segundo_grado(a_s1, b_s1, c_s1)\n",
        "print(f\"Para la ecuación {a_s1}x^2 + {b_s1}x + {c_s1} = 0, las soluciones son: {soluciones1}\")\n",
        "\n",
        "a_s2, b_s2, c_s2 = 1, 2, 1   # x^2 + 2x + 1 = 0 -> (x+1)^2 = 0\n",
        "soluciones2 = resolver_ecuacion_segundo_grado(a_s2, b_s2, c_s2)\n",
        "print(f\"Para la ecuación {a_s2}x^2 + {b_s2}x + {c_s2} = 0, las soluciones son: {soluciones2}\")\n",
        "\n",
        "a_s3, b_s3, c_s3 = 1, 1, 1   # x^2 + x + 1 = 0\n",
        "soluciones3 = resolver_ecuacion_segundo_grado(a_s3, b_s3, c_s3)\n",
        "print(f\"Para la ecuación {a_s3}x^2 + {b_s3}x + {c_s3} = 0, las soluciones son: {soluciones3}\")\n",
        "\n",
        "a_s4, b_s4, c_s4 = 0, 2, 3\n",
        "soluciones4 = resolver_ecuacion_segundo_grado(a_s4, b_s4, c_s4)\n",
        "print(f\"Para la ecuación {a_s4}x^2 + {b_s4}x + {c_s4} = 0, la solución es: {soluciones4}\")"
      ],
      "execution_count": 20,
      "outputs": [
        {
          "output_type": "stream",
          "name": "stdout",
          "text": [
            "Para la ecuación 1x^2 + -5x + 6 = 0, las soluciones son: ((2+0j), (3+0j))\n",
            "Para la ecuación 1x^2 + 2x + 1 = 0, las soluciones son: ((-1+0j), (-1+0j))\n",
            "Para la ecuación 1x^2 + 1x + 1 = 0, las soluciones son: ((-0.5-0.8660254037844386j), (-0.5+0.8660254037844386j))\n",
            "Para la ecuación 0x^2 + 2x + 3 = 0, la solución es: El coeficiente 'a' no puede ser cero para una ecuación de segundo grado.\n"
          ]
        }
      ]
    }
  ]
}